{
 "cells": [
  {
   "cell_type": "code",
   "execution_count": 6,
   "id": "e33fe012",
   "metadata": {},
   "outputs": [
    {
     "name": "stdout",
     "output_type": "stream",
     "text": [
      "Escolha o ângulo (em graus): 12\n"
     ]
    }
   ],
   "source": [
    "theta = input(\"Escolha o ângulo (em graus): \")"
   ]
  },
  {
   "cell_type": "code",
   "execution_count": 7,
   "id": "38b2d498",
   "metadata": {},
   "outputs": [
    {
     "name": "stdout",
     "output_type": "stream",
     "text": [
      "Escolha o eixo de rotação (X, Y ou Z): abc\n"
     ]
    }
   ],
   "source": [
    "axis = input(\"Escolha o eixo de rotação (X, Y ou Z): \")"
   ]
  },
  {
   "cell_type": "code",
   "execution_count": 8,
   "id": "7e4c4e10",
   "metadata": {},
   "outputs": [
    {
     "data": {
      "text/plain": [
       "'ABC'"
      ]
     },
     "execution_count": 8,
     "metadata": {},
     "output_type": "execute_result"
    }
   ],
   "source": [
    "axis = axis.upper()\n",
    "axis"
   ]
  }
 ],
 "metadata": {
  "kernelspec": {
   "display_name": "Python 3 (ipykernel)",
   "language": "python",
   "name": "python3"
  },
  "language_info": {
   "codemirror_mode": {
    "name": "ipython",
    "version": 3
   },
   "file_extension": ".py",
   "mimetype": "text/x-python",
   "name": "python",
   "nbconvert_exporter": "python",
   "pygments_lexer": "ipython3",
   "version": "3.10.7"
  }
 },
 "nbformat": 4,
 "nbformat_minor": 5
}
