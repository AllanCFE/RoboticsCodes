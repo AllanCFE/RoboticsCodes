{
  "cells": [
    {
      "cell_type": "code",
      "execution_count": 22,
      "metadata": {
        "id": "UDnDPjtas1VP"
      },
      "outputs": [],
      "source": [
        "import math\n",
        "import numpy\n",
        "import matplotlib.pyplot as plt\n",
        "\n",
        "# if using a jupyter notebook\n",
        "%matplotlib inline\n",
        "\n",
        "# Allows for printing of entire arrays\n",
        "numpy.set_printoptions(threshold=numpy.inf)\n",
        "\n",
        "# Definition of DH parameters\n",
        "d1 = 0.495\n",
        "d2 = 0.0\n",
        "d3 = 0.0\n",
        "d4 = 1.475\n",
        "d5 = 0.0\n",
        "d6 = 0.135\n",
        "\n",
        "a1 = 0.175\n",
        "a2 = 1.095\n",
        "a3 = 0.175\n",
        "a4 = 0.0\n",
        "a5 = 0.0\n",
        "a6 = 0.0\n",
        "\n",
        "alpha1 = -1 * math.pi / 2\n",
        "alpha2 = 0.0\n",
        "alpha3 = -1 * math.pi / 2\n",
        "alpha4 = math.pi / 2\n",
        "alpha5 = math.pi / 2\n",
        "alpha6 = 0.0"
      ]
    },
    {
      "attachments": {},
      "cell_type": "markdown",
      "metadata": {
        "id": "XmZN7C5AtKtT"
      },
      "source": [
        "# 0 - Definição de parâmetros"
      ]
    },
    {
      "cell_type": "code",
      "execution_count": 23,
      "metadata": {
        "id": "vDkGJjsGtKtU"
      },
      "outputs": [],
      "source": [
        "# Final actuator parameters\n",
        "# X = red\n",
        "x_final = 1.58\n",
        "# Y = green\n",
        "y_final = 0\n",
        "# Z = blue\n",
        "z_final = 1.765\n",
        "\n",
        "# Final orientation parameters\n",
        "t4 = numpy.deg2rad(0)\n",
        "t5 = numpy.deg2rad(0)\n",
        "\n",
        "# Wrist position parameters\n",
        "yc = y_final\n",
        "xc = x_final"
      ]
    },
    {
      "attachments": {},
      "cell_type": "markdown",
      "metadata": {
        "id": "7tZWqlpQs1VT"
      },
      "source": [
        "# 1 - Cinemática inversa de posição do corpo"
      ]
    },
    {
      "cell_type": "code",
      "execution_count": 24,
      "metadata": {
        "colab": {
          "base_uri": "https://localhost:8080/"
        },
        "id": "We4sPSurs1VW",
        "outputId": "8194b59e-e1b2-47f1-9572-e48185bf0be2"
      },
      "outputs": [
        {
          "name": "stdout",
          "output_type": "stream",
          "text": [
            "0.0\n"
          ]
        }
      ],
      "source": [
        "# Calculation of theta 1\n",
        "def theta1(xc,yc):\n",
        "    return math.atan2(yc, xc)\n",
        "\n",
        "print(math.degrees(theta1(xc,yc)))"
      ]
    },
    {
      "cell_type": "code",
      "execution_count": 25,
      "metadata": {
        "colab": {
          "base_uri": "https://localhost:8080/"
        },
        "id": "kmwZJ1Xes1VX",
        "outputId": "b75ed1dc-558a-4ce3-9a69-8c7a76ff0144"
      },
      "outputs": [
        {
          "name": "stdout",
          "output_type": "stream",
          "text": [
            "3.564976857227738\n"
          ]
        }
      ],
      "source": [
        "def theta3(x_final, y_final, z_final, xc, yc):\n",
        "    s = z_final - d1\n",
        "    beta = math.sqrt(math.pow(a3,2) + math.pow(d4,2))\n",
        "    r = math.sqrt(math.pow((x_final - a1)*math.cos(theta1(xc,yc)),2) + math.pow((y_final - a1)*math.sin(theta1(xc,yc)),2))\n",
        "\n",
        "    D = ( math.pow(r,2) + math.pow(s,2) - math.pow(a2,2) - math.pow(beta,2) )/(2*a2*beta)\n",
        "\n",
        "    return math.atan2(math.sqrt(1 - math.pow(D,2)), D) - (math.pi / 2) + math.atan2(a3, d4)\n",
        "\n",
        "print(math.degrees(theta3(x_final, y_final, z_final, xc, yc)))"
      ]
    },
    {
      "cell_type": "code",
      "execution_count": 26,
      "metadata": {
        "colab": {
          "base_uri": "https://localhost:8080/"
        },
        "id": "hAjJu93cs1VY",
        "outputId": "c6014ba1-8477-4e39-9972-ea11dfe2c28b"
      },
      "outputs": [
        {
          "name": "stdout",
          "output_type": "stream",
          "text": [
            "-3.6513269742072993\n"
          ]
        }
      ],
      "source": [
        "# Calculation of theta 2\n",
        "# theta2 = (-1 * math.atan2(s,r)) + math.atan2(beta*math.sin(-theta3 - (math.pi / 2) + math.atan2(a3,d4)), a2 + beta*math.cos(-theta3 - (math.pi / 2) + math.atan2(a3,d4))) + (math.pi/2)\n",
        "\n",
        "# print(math.degrees(theta2))\n",
        "\n",
        "def theta2 (x_final, y_final, z_final, xc, yc):\n",
        "    s = z_final - d1\n",
        "    beta = math.sqrt(math.pow(a3,2) + math.pow(d4,2))\n",
        "    r = math.sqrt(math.pow((x_final - a1)*math.cos(theta1(xc,yc)),2) + math.pow((y_final - a1)*math.sin(theta1(xc,yc)),2))\n",
        "\n",
        "    return (-1 * math.atan2(s,r)) + math.atan2(beta*math.sin(-theta3(x_final, y_final, z_final, xc, yc) - (math.pi / 2) + math.atan2(a3,d4)), a2 + beta*math.cos(-theta3(x_final, y_final, z_final, xc, yc) - (math.pi / 2) + math.atan2(a3,d4))) + (math.pi/2)\n",
        "\n",
        "print(math.degrees(theta2(x_final, y_final, z_final, xc, yc)))"
      ]
    },
    {
      "attachments": {},
      "cell_type": "markdown",
      "metadata": {
        "id": "BVL7UPw7s1VZ"
      },
      "source": [
        "# 2 = Cinemática inversa de posição do punho"
      ]
    },
    {
      "cell_type": "code",
      "execution_count": 27,
      "metadata": {
        "id": "N6TM16k2s1VZ"
      },
      "outputs": [],
      "source": [
        "# Definition of the DH matrix\n",
        "def DH_matrix(theta, d, a, alpha):\n",
        "    return numpy.array([[math.cos(theta), -1*math.sin(theta)*math.cos(alpha), math.sin(theta)*math.sin(alpha), a*math.cos(theta)],\n",
        "                        [math.sin(theta), math.cos(theta)*math.cos(alpha), -1*math.cos(theta)*math.sin(alpha), a*math.sin(theta)],\n",
        "                        [0, math.sin(alpha), math.cos(alpha), d],\n",
        "                        [0, 0, 0, 1]])"
      ]
    },
    {
      "cell_type": "code",
      "execution_count": 28,
      "metadata": {
        "id": "SaIestMVs1Va"
      },
      "outputs": [],
      "source": [
        "# DH matrix for the first three joints\n",
        "# DH1 = DH_matrix(theta1, d1, a1, alpha1)\n",
        "# DH2 = DH_matrix(theta2, d2, a2, alpha2)\n",
        "# DH3 = DH_matrix(theta3, d3, a3, alpha3)\n",
        "\n",
        "# DH03 = numpy.dot(numpy.dot(DH1, DH2), DH3)\n",
        "\n",
        "# orientacao = numpy.array([\n",
        "#     [1,0,1,0],\n",
        "#     [0,1,math.tan(t4),0],\n",
        "#     [0,0,math.tan(t5)*math.sqrt(1+math.tan(t4)**2),0],\n",
        "#     [0,0,0,1]\n",
        "# ])\n",
        "\n",
        "# DH03 = numpy.dot(orientacao, DH03)\n",
        "\n",
        "# # Round the values of the matrix\n",
        "# DH03 = numpy.around(DH03, decimals=3)\n",
        "# DH03\n",
        "\n",
        "def DH03(t1,t2,t3,t4,t5):\n",
        "    DH1 = DH_matrix(t1, d1, a1, alpha1)\n",
        "    DH2 = DH_matrix(t2, d2, a2, alpha2)\n",
        "    DH3 = DH_matrix(t3, d3, a3, alpha3)\n",
        "\n",
        "    DH03 = numpy.dot(numpy.dot(DH1, DH2), DH3)\n",
        "\n",
        "    orientacao = numpy.array([\n",
        "        [1,0,1,0],\n",
        "        [0,1,math.tan(t4),0],\n",
        "        [0,0,math.tan(t5)*math.sqrt(1+math.tan(t4)**2),0],\n",
        "        [0,0,0,1]\n",
        "    ])\n",
        "\n",
        "    DH03 = numpy.dot(orientacao, DH03)\n",
        "\n",
        "    # Round the values of the matrix\n",
        "    DH03 = numpy.around(DH03, decimals=3)\n",
        "    return DH03\n"
      ]
    },
    {
      "cell_type": "code",
      "execution_count": 29,
      "metadata": {
        "colab": {
          "base_uri": "https://localhost:8080/"
        },
        "id": "FGdkyXjzs1Va",
        "outputId": "b5732aab-9758-41dd-b3da-84ee8404ddf6"
      },
      "outputs": [
        {
          "name": "stdout",
          "output_type": "stream",
          "text": [
            "0.0\n"
          ]
        }
      ],
      "source": [
        "# Calculation of theta 5\n",
        "# theta5 = -(math.atan2(math.sqrt( math.pow(DH03[0,2],2) + math.pow(DH03[1,2],2) ), DH03[2,2]))+ math.pi/2\n",
        "# print(math.degrees(theta5))\n",
        "\n",
        "def theta5(DH03):\n",
        "    return -(math.atan2(math.sqrt( math.pow(DH03[0,2],2) + math.pow(DH03[1,2],2) ), DH03[2,2]))+ math.pi/2\n",
        "\n",
        "print(math.degrees(theta5(DH03(theta1(xc,yc), theta2(x_final, y_final, z_final, xc, yc), theta3(x_final, y_final, z_final, xc, yc), t4, t5))))"
      ]
    },
    {
      "cell_type": "code",
      "execution_count": 30,
      "metadata": {
        "colab": {
          "base_uri": "https://localhost:8080/"
        },
        "id": "JU_3FPIYs1Vb",
        "outputId": "4e6164cd-3d94-4eaf-8b5d-d3a9bdd2577b"
      },
      "outputs": [
        {
          "name": "stdout",
          "output_type": "stream",
          "text": [
            "0.0\n"
          ]
        }
      ],
      "source": [
        "# Calculation of theta 4\n",
        "# theta4 = math.atan2(DH03[1,2],DH03[0,2]) - math.pi\n",
        "\n",
        "# print(math.degrees(theta4))\n",
        "\n",
        "def theta4(DH03):\n",
        "    return math.atan2(DH03[1,2],DH03[0,2]) - math.pi\n",
        "\n",
        "print(math.degrees(theta4(DH03(theta1(xc,yc), theta2(x_final, y_final, z_final, xc, yc), theta3(x_final, y_final, z_final, xc, yc), t4, t5))))"
      ]
    },
    {
      "cell_type": "code",
      "execution_count": 31,
      "metadata": {
        "colab": {
          "base_uri": "https://localhost:8080/"
        },
        "id": "1NbJsvcls1Vb",
        "outputId": "62c66f03-80f4-4e72-fa99-b644c3f0eb6f"
      },
      "outputs": [
        {
          "name": "stdout",
          "output_type": "stream",
          "text": [
            "0.0\n"
          ]
        }
      ],
      "source": [
        "def theta6(DH03=0):\n",
        "    return 0\n",
        "\n",
        "print(math.degrees(theta6()))"
      ]
    },
    {
      "cell_type": "code",
      "execution_count": 32,
      "metadata": {
        "colab": {
          "base_uri": "https://localhost:8080/"
        },
        "id": "KLyb0DeZs1Vb",
        "outputId": "70c9cf6e-2733-42e0-d5c6-23aa422043fb"
      },
      "outputs": [
        {
          "name": "stdout",
          "output_type": "stream",
          "text": [
            "θ_1 =  0.0\n",
            "θ_2 =  -3.651\n",
            "θ_3 =  3.565\n",
            "θ_4 =  0.0\n",
            "θ_5 =  0.0\n",
            "θ_6 =  0.0\n"
          ]
        }
      ],
      "source": [
        "print('\\u03B8_1 = ', numpy.around(math.degrees(theta1(xc,yc)), decimals=3))\n",
        "print('\\u03B8_2 = ', numpy.around(math.degrees(theta2(x_final, y_final, z_final, xc, yc)), decimals=3))\n",
        "print('\\u03B8_3 = ', numpy.around(math.degrees(theta3(x_final, y_final, z_final, xc, yc)), decimals=3))\n",
        "print('\\u03B8_4 = ', numpy.around(math.degrees(theta4(DH03(theta1(xc,yc), theta2(x_final, y_final, z_final, xc, yc), theta3(x_final, y_final, z_final, xc, yc), t4, t5))), decimals=3))\n",
        "print('\\u03B8_5 = ', numpy.around(math.degrees(theta5(DH03(theta1(xc,yc), theta2(x_final, y_final, z_final, xc, yc), theta3(x_final, y_final, z_final, xc, yc), t4, t5))), decimals=3))\n",
        "print('\\u03B8_6 = ', numpy.around(math.degrees(theta6()), decimals=3))"
      ]
    },
    {
      "attachments": {},
      "cell_type": "markdown",
      "metadata": {
        "id": "Br6RBPpftKtY"
      },
      "source": [
        "# 3 - Configuração do motor"
      ]
    },
    {
      "cell_type": "code",
      "execution_count": 33,
      "metadata": {
        "colab": {
          "base_uri": "https://localhost:8080/"
        },
        "id": "VYM83E2Wudxt",
        "outputId": "4c27b0db-29fc-4d17-f4d2-7fbfd34f9ddb"
      },
      "outputs": [
        {
          "name": "stdout",
          "output_type": "stream",
          "text": [
            "motors[0].setPosition( 0.0 )\n",
            "motors[1].setPosition( -0.064 )\n",
            "motor[s[2].setPosition( 0.062 )\n",
            "motors[3].setPosition( 0.0 )\n",
            "motors[4].setPosition( 0.0 )\n",
            "motors[5].setPosition( 0 )\n"
          ]
        }
      ],
      "source": [
        "print('motors[0].setPosition(', numpy.around(theta1(xc,yc), decimals=3),')')\n",
        "print('motors[1].setPosition(', numpy.around(theta2(x_final, y_final, z_final, xc, yc), decimals=3),')')\n",
        "print('motor[s[2].setPosition(', numpy.around(theta3(x_final, y_final, z_final, xc, yc), decimals=3),')')\n",
        "print('motors[3].setPosition(', numpy.around(theta4(DH03(theta1(xc,yc), theta2(x_final, y_final, z_final, xc, yc), theta3(x_final, y_final, z_final, xc, yc), t4, t5)), decimals=3),')')\n",
        "print('motors[4].setPosition(', numpy.around(theta5(DH03(theta1(xc,yc), theta2(x_final, y_final, z_final, xc, yc), theta3(x_final, y_final, z_final, xc, yc), t4, t5)), decimals=3),')')\n",
        "print('motors[5].setPosition(', numpy.around(theta6(), decimals=3),')')"
      ]
    },
    {
      "attachments": {},
      "cell_type": "markdown",
      "metadata": {
        "id": "w__-ZD3OtKtY"
      },
      "source": [
        "# 4 - Definição da trajetória"
      ]
    },
    {
      "cell_type": "code",
      "execution_count": 34,
      "metadata": {
        "colab": {
          "base_uri": "https://localhost:8080/",
          "height": 552
        },
        "id": "tQnOSk_6tKtY",
        "outputId": "ab8d87ce-1663-496d-d858-475b725513be"
      },
      "outputs": [
        {
          "name": "stdout",
          "output_type": "stream",
          "text": [
            "X\n",
            "[1.4   ,1.4207,1.5292,1.6834,1.7496,1.6631,1.5079,1.4132,1.3999,1.3697,\n",
            " 1.2483,1.0984,1.054 ,1.1587,1.312 ,1.3924]\n",
            "Y\n",
            "[-1.143 ,-1.0652,-0.9495,-0.9671,-1.1112,-1.2722,-1.4103,-1.5236,-1.5618,\n",
            " -1.4954,-1.3718,-1.2276,-1.0629,-0.9447,-0.9748,-1.101 ]\n",
            "Length of X:  16\n"
          ]
        },
        {
          "data": {
            "image/png": "[encoded data removed]",
            "text/plain": [
              "<Figure size 640x480 with 1 Axes>"
            ]
          },
          "metadata": {},
          "output_type": "display_data"
        }
      ],
      "source": [
        "t = numpy.arange(0, 2*numpy.pi, 0.4)\n",
        "\n",
        "x = 0.35 * numpy.sin(t)**3 + 1.4\n",
        "y = 0.262 * numpy.cos(t) - 0.127 * numpy.cos(2*t) - 0.052 * numpy.cos(3*t) - 0.026 * numpy.cos(4*t) - 1.2\n",
        "\n",
        "# Generates constant values for the z axis\n",
        "z = numpy.full((len(x)), 0.01)\n",
        "\n",
        "print('X')\n",
        "print(numpy.array2string(x, precision=4, separator=',', suppress_small=True))\n",
        "print('Y')\n",
        "print(numpy.array2string(y, precision=4, separator=',', suppress_small=True))\n",
        "\n",
        "print('Length of X: ', len(x))\n",
        "\n",
        "plt.plot(x, y)\n",
        "plt.show()"
      ]
    },
    {
      "cell_type": "code",
      "execution_count": 35,
      "metadata": {
        "colab": {
          "base_uri": "https://localhost:8080/"
        },
        "id": "Km48yxnbtKtZ",
        "outputId": "af705afb-40f8-4b47-ff46-9825e6be074c"
      },
      "outputs": [
        {
          "name": "stdout",
          "output_type": "stream",
          "text": [
            "motor0 =  [-0.685,-0.643,-0.556,-0.521,-0.566,-0.653,-0.752,-0.823,-0.84 ,-0.829,\n",
            " -0.832,-0.841,-0.79 ,-0.684,-0.639,-0.669]\n",
            "motor1 =  [0.648,0.64 ,0.662,0.72 ,0.754,0.742,0.734,0.757,0.77 ,0.742,0.687,0.627,\n",
            " 0.573,0.56 ,0.599,0.639]\n",
            "motor2 =  [0.623,0.641,0.595,0.475,0.407,0.431,0.447,0.402,0.376,0.431,0.543,0.667,\n",
            " 0.786,0.815,0.729,0.644]\n",
            "motor3 =  [-0.528,-0.5  ,-0.422,-0.376,-0.397,-0.464,-0.539,-0.581,-0.586,-0.593,\n",
            " -0.624,-0.665,-0.657,-0.576,-0.516,-0.521]\n",
            "motor4 =  [0.,0.,0.,0.,0.,0.,0.,0.,0.,0.,0.,0.,0.,0.,0.,0.]\n",
            "motor5 =  [0,0,0,0,0,0,0,0,0,0,0,0,0,0,0,0]\n"
          ]
        }
      ],
      "source": [
        "# def theta1(xc,yc):\n",
        "# def theta2 (x_final, y_final, z_final, xc, yc):\n",
        "# def theta3(x_final, y_final, z_final, xc, yc):\n",
        "# def theta4(DH03):\n",
        "# def theta5(DH03):\n",
        "# def theta6(DH03=0):\n",
        "\n",
        "motor0 = []\n",
        "motor1 = []\n",
        "motor2 = []\n",
        "motor3 = []\n",
        "motor4 = []\n",
        "motor5 = []\n",
        "\n",
        "\n",
        "for i in range(0, len(x)):\n",
        "    motor0.append(theta1(x[i],y[i]))\n",
        "    motor1.append(theta2(x[i], y[i], z[i], x[i], y[i]))\n",
        "    motor2.append(theta3(x[i], y[i], z[i], x[i], y[i]))\n",
        "\n",
        "    this_Dh03 = DH03(motor0[i], motor1[i], motor2[i], t4, t5)\n",
        "\n",
        "    motor3.append(theta4(this_Dh03))\n",
        "    motor4.append(theta5(this_Dh03))\n",
        "    motor5.append(theta6())\n",
        "\n",
        "\n",
        "print('motor0 = ', numpy.array2string(numpy.around(motor0, decimals=3), precision=4, separator=',', suppress_small=True))\n",
        "print('motor1 = ', numpy.array2string(numpy.around(motor1, decimals=3), precision=4, separator=',', suppress_small=True))\n",
        "print('motor2 = ', numpy.array2string(numpy.around(motor2, decimals=3), precision=4, separator=',', suppress_small=True))\n",
        "print('motor3 = ', numpy.array2string(numpy.around(motor3, decimals=3), precision=4, separator=',', suppress_small=True))\n",
        "print('motor4 = ', numpy.array2string(numpy.around(motor4, decimals=3), precision=4, separator=',', suppress_small=True))\n",
        "print('motor5 = ', numpy.array2string(numpy.around(motor5, decimals=3), precision=4, separator=',', suppress_small=True))"
      ]
    },
    {
      "attachments": {},
      "cell_type": "markdown",
      "metadata": {
        "id": "KlodS6E_LL-F"
      },
      "source": [
        "# 5 - Planejamento de trajetória"
      ]
    },
    {
      "cell_type": "code",
      "execution_count": 36,
      "metadata": {
        "colab": {
          "base_uri": "https://localhost:8080/",
          "height": 1000
        },
        "id": "gsS-HFKE8JJ3",
        "outputId": "ee64a521-e7d3-4681-83d7-56893b24d051"
      },
      "outputs": [
        {
          "name": "stdout",
          "output_type": "stream",
          "text": [
            "Soma dos tempos:  4.032\n"
          ]
        },
        {
          "data": {
            "image/png": "[encoded data removed]",
            "text/plain": [
              "<Figure size 640x480 with 1 Axes>"
            ]
          },
          "metadata": {},
          "output_type": "display_data"
        },
        {
          "data": {
            "image/png": "[encoded data removed]",
            "text/plain": [
              "<Figure size 640x480 with 1 Axes>"
            ]
          },
          "metadata": {},
          "output_type": "display_data"
        },
        {
          "data": {
            "image/png": "[encoded data removed]",
            "text/plain": [
              "<Figure size 640x480 with 1 Axes>"
            ]
          },
          "metadata": {},
          "output_type": "display_data"
        }
      ],
      "source": [
        "# Task time\n",
        "tf_ = 0.64\n",
        "\n",
        "# Columns = Initial position, speed and acceleration\n",
        "# Rows = x, y and z\n",
        "home_q = [\n",
        "    [1.580,0,0],\n",
        "    [0,0,0],\n",
        "    [1.765,0,0]\n",
        "]\n",
        "\n",
        "# Columns = Final position, speed and acceleration\n",
        "# Rows = x, y and z\n",
        "table_q = [\n",
        "    [1.400,0,0],\n",
        "    [-1.143,0,0],\n",
        "    [0.01,0,0]\n",
        "]\n",
        "\n",
        "qi = None\n",
        "qf = None\n",
        "\n",
        "heart_times = [0.1280000000000001,0.3839999999999999,0.06400000000000006,0.06400000000000006,0.06399999999999983,0.06400000000000006,0.06400000000000006,0.06400000000000006,0.06400000000000006,0.3839999999999999,0.512,0.512,0.512,0.3839999999999999,0.06400000000000006,0.06400000000000006,]\n",
        "task_times = [tf_] + heart_times\n",
        "\n",
        "print('Soma dos tempos: ', sum(task_times))\n",
        "\n",
        "prev_tf = 0.0\n",
        "\n",
        "final_x = []\n",
        "final_y_pos = {}\n",
        "final_y_vel = {}\n",
        "final_y_acc = {}\n",
        "\n",
        "name_color = {\n",
        "  \"X\": \"blue\",\n",
        "  \"Y\": \"green\",\n",
        "  \"Z\": \"orange\",\n",
        "}\n",
        "\n",
        "for index, tf in enumerate(task_times):\n",
        "  if qi is None or qf is None:\n",
        "    qi = home_q\n",
        "    qf = table_q\n",
        "  else:\n",
        "    qi = [\n",
        "        [qf[0][0],0,0],\n",
        "        [qf[1][0],0,0],\n",
        "        [qf[2][0],0,0]\n",
        "    ]\n",
        "\n",
        "    qf = [\n",
        "      [x[index-1],0,0],\n",
        "      [y[index-1],0,0],\n",
        "      [table_q[2][0],0,0]\n",
        "    ]\n",
        "\n",
        "  # Find initial position indexes\n",
        "\n",
        "  a_0 = [qi[0][0],qi[1][0],qi[2][0]]\n",
        "  a_1 = [qi[0][1],qi[1][1],qi[2][1]]\n",
        "  a_2 = [qi[0][2]/2,qi[1][2]/2,qi[2][2]/2]\n",
        "\n",
        "  # Define linear system for final position indexes\n",
        "  LS = [\n",
        "      [ math.pow(tf,5) , math.pow(tf,4), math.pow(tf,3)],\n",
        "      [ 5*math.pow(tf,4) , 4*math.pow(tf,3), 3*math.pow(tf,2) ],\n",
        "      [ 20*math.pow(tf,3) , 12*math.pow(tf,2), 6*tf ]\n",
        "  ]\n",
        "\n",
        "  SS = []\n",
        "  for i in range(0,3):\n",
        "    SS += [[\n",
        "      [qf[i][0] - (a_0[i] + a_1[i]*tf + a_2[i]*math.pow(tf,2))],\n",
        "      [qf[i][1] - (a_1[i] + 2*a_2[i]*tf)],\n",
        "      [qf[i][2] - (2*a_2[i])]\n",
        "    ]]\n",
        "\n",
        "  solutions = {}\n",
        "\n",
        "  solutions[\"X\"] = numpy.linalg.solve(LS,SS[0])\n",
        "\n",
        "  solutions[\"Y\"] = numpy.linalg.solve(LS,SS[1])\n",
        "\n",
        "  solutions[\"Z\"] = numpy.linalg.solve(LS,SS[2])\n",
        "\n",
        "  a_5 = numpy.around([solutions[\"X\"][0][0], solutions[\"Y\"][0][0], solutions[\"Z\"][0][0]], decimals=3)\n",
        "  a_4 = numpy.around([solutions[\"X\"][1][0], solutions[\"Y\"][1][0], solutions[\"Z\"][1][0]], decimals=3)\n",
        "  a_3 = numpy.around([solutions[\"X\"][2][0], solutions[\"Y\"][2][0], solutions[\"Z\"][2][0]], decimals=3)\n",
        "\n",
        "  timeseries_x = numpy.arange(start=0, stop=tf, step=tf/100)\n",
        "  final_x += list(timeseries_x + prev_tf)\n",
        "\n",
        "  for i, name in enumerate(solutions.keys()):\n",
        "    if name not in final_y_pos.keys():\n",
        "      final_y_pos[name] = []\n",
        "    if name not in final_y_vel.keys():\n",
        "      final_y_vel[name] = []\n",
        "    if name not in final_y_acc.keys():\n",
        "      final_y_acc[name] = []\n",
        "    final_y_pos[name] += [a_5[i]*(j**5)+a_4[i]*(j**4)+a_3[i]*(j**3)+a_2[i]*(j**2)+a_1[i]*(j**1)+a_0[i] for j in timeseries_x]\n",
        "    final_y_vel[name] += [5*a_5[i]*(j**4)+4*a_4[i]*(j**3)+3*a_3[i]*(j**2)+2*a_2[i]*(j**1)+a_1[i] for j in timeseries_x]\n",
        "    final_y_acc[name] += [20*a_5[i]*(j**3)+12*a_4[i]*(j**2)+6*a_3[i]*(j**1)+2*a_2[i] for j in timeseries_x]\n",
        "\n",
        "  prev_tf += tf\n",
        "\n",
        "plt.figure(1)\n",
        "plt.axvline(x=0, label=\"Home\", color='red', linestyle='dashed')\n",
        "plt.xlabel(xlabel=\"Time [s]\")\n",
        "plt.ylabel(ylabel=\"Pos. [m]\")\n",
        "for i, name in enumerate(solutions.keys()):\n",
        "  plt.plot(final_x, final_y_pos[name], label=name, color=name_color[name])\n",
        "plt.legend(bbox_to_anchor=(1, 1.05))\n",
        "\n",
        "plt.figure(2)\n",
        "plt.axvline(x=0, label=\"Home\", color='red', linestyle='dashed')\n",
        "plt.xlabel(xlabel=\"Time [s]\")\n",
        "plt.ylabel(ylabel=\"Vel. [m/s]\")\n",
        "for i, name in enumerate(solutions.keys()):\n",
        "  plt.plot(final_x, final_y_vel[name], label=name, color=name_color[name])\n",
        "plt.legend(bbox_to_anchor=(1, 1.05))\n",
        "\n",
        "plt.figure(3)\n",
        "plt.axvline(x=0, label=\"Home\", color='red', linestyle='dashed')\n",
        "plt.xlabel(xlabel=\"Time [s]\")\n",
        "plt.ylabel(ylabel=\"Accel. [m/s^2]\")\n",
        "for i, name in enumerate(solutions.keys()):\n",
        "  plt.plot(final_x, final_y_acc[name], label=name, color=name_color[name])\n",
        "plt.legend(bbox_to_anchor=(1, 1.05))\n",
        "\n",
        "plt.show()"
      ]
    },
    {
      "cell_type": "code",
      "execution_count": 37,
      "metadata": {},
      "outputs": [
        {
          "ename": "IndexError",
          "evalue": "list index out of range",
          "output_type": "error",
          "traceback": [
            "\u001b[1;31m---------------------------------------------------------------------------\u001b[0m",
            "\u001b[1;31mIndexError\u001b[0m                                Traceback (most recent call last)",
            "\u001b[1;32mg:\\Meu Drive\\23_1\\Robótica\\Códigos\\FINAL_ABB_IRB_4600_40.ipynb Cell 22\u001b[0m in \u001b[0;36m2\n\u001b[0;32m     <a href='vscode-notebook-cell:/g%3A/Meu%20Drive/23_1/Rob%C3%B3tica/C%C3%B3digos/FINAL_ABB_IRB_4600_40.ipynb#X30sZmlsZQ%3D%3D?line=16'>17</a>\u001b[0m motor[\u001b[39m1\u001b[39m]\u001b[39m.\u001b[39mappend(theta2(x[i], y[i], z[i], x[i], y[i]))\n\u001b[0;32m     <a href='vscode-notebook-cell:/g%3A/Meu%20Drive/23_1/Rob%C3%B3tica/C%C3%B3digos/FINAL_ABB_IRB_4600_40.ipynb#X30sZmlsZQ%3D%3D?line=17'>18</a>\u001b[0m motor[\u001b[39m2\u001b[39m]\u001b[39m.\u001b[39mappend(theta3(x[i], y[i], z[i], x[i], y[i]))\n\u001b[1;32m---> <a href='vscode-notebook-cell:/g%3A/Meu%20Drive/23_1/Rob%C3%B3tica/C%C3%B3digos/FINAL_ABB_IRB_4600_40.ipynb#X30sZmlsZQ%3D%3D?line=19'>20</a>\u001b[0m this_Dh03 \u001b[39m=\u001b[39m DH03(motor0[i], motor1[i], motor2[i], t4, t5)\n\u001b[0;32m     <a href='vscode-notebook-cell:/g%3A/Meu%20Drive/23_1/Rob%C3%B3tica/C%C3%B3digos/FINAL_ABB_IRB_4600_40.ipynb#X30sZmlsZQ%3D%3D?line=21'>22</a>\u001b[0m motor[\u001b[39m3\u001b[39m]\u001b[39m.\u001b[39mappend(theta4(this_Dh03))\n\u001b[0;32m     <a href='vscode-notebook-cell:/g%3A/Meu%20Drive/23_1/Rob%C3%B3tica/C%C3%B3digos/FINAL_ABB_IRB_4600_40.ipynb#X30sZmlsZQ%3D%3D?line=22'>23</a>\u001b[0m motor[\u001b[39m4\u001b[39m]\u001b[39m.\u001b[39mappend(theta5(this_Dh03))\n",
            "\u001b[1;31mIndexError\u001b[0m: list index out of range"
          ]
        }
      ],
      "source": [
        "x = final_y_pos['X']\n",
        "y = final_y_pos['Y']\n",
        "z = final_y_pos['Z']\n",
        "\n",
        "motor = [0,0,0,0,0,0]\n",
        "\n",
        "motor[0] = []\n",
        "motor[1] = []\n",
        "motor[2] = []\n",
        "motor[3] = []\n",
        "motor[4] = []\n",
        "motor[5] = []\n",
        "\n",
        "\n",
        "for i in range(0, len(x)):\n",
        "    motor[0].append(theta1(x[i],y[i]))\n",
        "    motor[1].append(theta2(x[i], y[i], z[i], x[i], y[i]))\n",
        "    motor[2].append(theta3(x[i], y[i], z[i], x[i], y[i]))\n",
        "\n",
        "    this_Dh03 = DH03(motor0[i], motor1[i], motor2[i], t4, t5)\n",
        "\n",
        "    motor[3].append(theta4(this_Dh03))\n",
        "    motor[4].append(theta5(this_Dh03))\n",
        "    motor[5].append(theta6())\n",
        "\n",
        "\n",
        "# print('motor0 = ', numpy.array2string(numpy.around(motor0, decimals=7), precision=7, separator=',', suppress_small=True))\n",
        "# print('motor1 = ', numpy.array2string(numpy.around(motor1, decimals=7), precision=7, separator=',', suppress_small=True))\n",
        "# print('motor2 = ', numpy.array2string(numpy.around(motor2, decimals=7), precision=7, separator=',', suppress_small=True))\n",
        "# print('motor3 = ', numpy.array2string(numpy.around(motor3, decimals=7), precision=7, separator=',', suppress_small=True))\n",
        "# print('motor4 = ', numpy.array2string(numpy.around(motor4, decimals=7), precision=7, separator=',', suppress_small=True))\n",
        "# print('motor5 = ', numpy.array2string(numpy.around(motor5, decimals=7), precision=7, separator=',', suppress_small=True))\n",
        "\n",
        "motor_colors = ['blue', 'green', 'red', 'cyan', 'magenta', 'yellow']\n",
        "\n",
        "for i in range(0,6):\n",
        "    plt.figure(i+4)\n",
        "    plt.axvline(x=0, label=\"Home\", color='red', linestyle='dashed')\n",
        "    plt.xlabel(xlabel=\"Time [s]\")\n",
        "    plt.ylabel(ylabel=\"Angle [°]\")\n",
        "    # for i, name in enumerate(solutions.keys()):\n",
        "    #   plt.plot(final_x, final_y_pos[name], label=name, color=name_color[name])\n",
        "    plt.plot(final_x, motor[i], label=\"Joint \"+str(i), color=motor_colors[i])\n",
        "    plt.legend(bbox_to_anchor=(1, 1.05))\n",
        "\n",
        "    # Save image\n",
        "    plt.savefig(\"joint_\"+str(i)+\"_angle.png\", dpi=300, bbox_inches='tight')"
      ]
    },
    {
      "cell_type": "code",
      "execution_count": null,
      "metadata": {
        "id": "OKrUkE3yIKYV"
      },
      "outputs": [],
      "source": [
        "# # Show position function\n",
        "# #print(\"Position function:\\n\")\n",
        "# #print(\"q(t) = \", a_5, \"t^5 + \", a_4, \"t^4 + \", a_3, \"t^3 + \", a_2, \"t^2 + \", a_1, \"t + \", a_0)\n",
        "\n",
        "# # Show speed function\n",
        "# #print(\"Speed function:\\n\")\n",
        "# #print(\"q'(t) = \", 5*a_5, \"t^4 + \", 4*a_4, \"t^3 + \", 3*a_3, \"t^2 + \", 2*a_2, \"t + \", a_1)\n",
        "\n",
        "# # Show acceleration function\n",
        "# #print(\"Acceleration function:\\n\")\n",
        "# #print(\"q''(t) = \", 20*a_5, \"t^3 + \", 12*a_4, \"t^2 + \", 6*a_3, \"t + \", 2*a_2)\n",
        "\n",
        "\n",
        "# names = ['X', 'Y', 'Z']\n",
        "\n",
        "# timeseries_x = numpy.arange(start=0, stop=tf, step=tf/100)\n",
        "\n",
        "# timeseries_y_pos = {}\n",
        "# timeseries_y_vel = {}\n",
        "# timeseries_y_acc = {}\n",
        "\n",
        "# for i, name in enumerate(names):\n",
        "#   # plt.subplot(311)\n",
        "#   plt.figure(1)\n",
        "#   timeseries_y_pos[name] = numpy.array([a_5[i]*(j**5)+a_4[i]*(j**4)+a_3[i]*(j**3)+a_2[i]*(j**2)+a_1[i]*(j**1)+a_0[i] for j in timeseries_x])\n",
        "#   plt.plot(timeseries_x, timeseries_y_pos[name], label=names[i])\n",
        "#   plt.axvline(x=timeseries_x[-1], color='purple', linestyle='dashed')\n",
        "\n",
        "#   # plt.subplot(312)\n",
        "#   plt.figure(2)\n",
        "#   timeseries_y_vel[name] = numpy.array([5*a_5[i]*(j**4)+4*a_4[i]*(j**3)+3*a_3[i]*(j**2)+2*a_2[i]*(j**1)+a_1[i] for j in timeseries_x])\n",
        "#   plt.plot(timeseries_x, timeseries_y_vel[name], label=names[i])\n",
        "#   plt.axvline(x=timeseries_x[-1], color='purple', linestyle='dashed')\n",
        "\n",
        "#   # plt.subplot(313)\n",
        "#   plt.figure(3)\n",
        "#   timeseries_y_acc[name] = numpy.array([20*a_5[i]*(j**3)+12*a_4[i]*(j**2)+6*a_3[i]*(j**1)+2*a_2[i] for j in timeseries_x])\n",
        "#   plt.plot(timeseries_x, timeseries_y_acc[name], label=names[i])\n",
        "#   plt.axvline(x=timeseries_x[-1], color='purple', linestyle='dashed')\n",
        "\n",
        "\n",
        "# # plt.subplot(311)\n",
        "# plt.figure(1)\n",
        "# plt.axvline(x=0, label=\"Home\", color='red', linestyle='dashed')\n",
        "# plt.xlabel(xlabel=\"Time [s]\")\n",
        "# plt.ylabel(ylabel=\"Pos. [m]\")\n",
        "\n",
        "# plt.legend(bbox_to_anchor=(1, 1.05))\n",
        "\n",
        "# # plt.subplot(312)\n",
        "# plt.figure(2)\n",
        "# plt.axvline(x=0, label=\"Home\", color='red', linestyle='dashed')\n",
        "# plt.xlabel(xlabel=\"Time [s]\")\n",
        "# plt.ylabel(ylabel=\"Vel. [m/s]\")\n",
        "\n",
        "# # plt.subplot(313)\n",
        "# plt.figure(3)\n",
        "# plt.axvline(x=0, label=\"Home\", color='red', linestyle='dashed')\n",
        "# plt.xlabel(xlabel=\"Time [s]\")\n",
        "# plt.ylabel(ylabel=\"Accel. [m/s^2]\")\n",
        "\n",
        "# plt.show()"
      ]
    },
    {
      "cell_type": "code",
      "execution_count": null,
      "metadata": {
        "id": "Sed2kl9J3rET"
      },
      "outputs": [],
      "source": [
        "# heart_times = numpy.array([0.1280000000000001, 0.256,0.31999999999999984,0.19200000000000017,0.06400000000000006,0.06399999999999983,0.06400000000000006,0.06400000000000006,0.06399999999999983,0.06400000000000006,0.06400000000000006,0.06400000000000006,0.1280000000000001,0.31999999999999984,0.31999999999999984,0.06400000000000006,0.06400000000000006,0.06400000000000006,0.06400000000000006,0.06400000000000006,0.06400000000000006,0.19199999999999973,0.3839999999999999,0.4480000000000004,0.4479999999999995,0.4480000000000004,0.4479999999999995,0.4480000000000004,0.4480000000000004,0.4479999999999995,0.4480000000000004,0.38399999999999945,0.2560000000000002,0.06400000000000006,0.06400000000000006,0.06400000000000006,0.06400000000000006,0.06400000000000006,0.06400000000000006,0.06400000000000006])\n",
        "\n",
        "# # Columns = Initial position, speed and acceleration\n",
        "# # Rows = x, y and z\n",
        "# original_qi = [\n",
        "#   [1.580,0,0],\n",
        "#   [0,0,0],\n",
        "#   [1.765,0,0]\n",
        "# ]\n",
        "\n",
        "# # Columns = Final position, speed and acceleration\n",
        "# # Rows = x, y and z\n",
        "# original_qf = [\n",
        "#     [1.400,0,0],\n",
        "#     [-1.143,0,0],\n",
        "#     [0.02,0,0]\n",
        "# ]\n",
        "\n",
        "# tf = 0.192\n",
        "# cum_time = 0\n",
        "# cum_time += tf\n",
        "\n",
        "# final_x = []\n",
        "# final_y_pos = {\"X\": [], \"Y\": [], \"Z\": []}\n",
        "# final_y_vel = {\"X\": [], \"Y\": [], \"Z\": []}\n",
        "# final_y_acc = {\"X\": [], \"Y\": [], \"Z\": []}\n",
        "\n",
        "# for index, tf in enumerate(heart_times):\n",
        "#   prev_tf = cum_time\n",
        "#   cum_time += tf\n",
        "#   # Columns = Initial position, speed and acceleration\n",
        "#   # Rows = x, y and z\n",
        "#   qi = qf\n",
        "\n",
        "#   # Columns = Final position, speed and acceleration\n",
        "#   # Rows = x, y and z\n",
        "#   qf = [\n",
        "#     [x[index],0,0],\n",
        "#     [y[index],0,0],\n",
        "#     [original_qf[2][0],0,0]\n",
        "#   ]\n",
        "\n",
        "#   a_0 = [qi[0][0],qi[1][0],qi[2][0]]\n",
        "#   a_1 = [qi[0][1],qi[1][1],qi[2][1]]\n",
        "#   a_2 = [qi[0][2]/2,qi[1][2]/2,qi[2][2]/2]\n",
        "\n",
        "#   # Define linear system for final position indexes\n",
        "#   LS = [\n",
        "#       [ math.pow(tf,5) , math.pow(tf,4), math.pow(tf,3)],\n",
        "#       [ 5*math.pow(tf,4) , 4*math.pow(tf,3), 3*math.pow(tf,2) ],\n",
        "#       [ 20*math.pow(tf,3) , 12*math.pow(tf,2), 6*tf ]\n",
        "#   ]\n",
        "\n",
        "#   SS = [\n",
        "#       0,0,0\n",
        "#   ]\n",
        "\n",
        "#   for i in range(0,3):\n",
        "#     SS[i] = [\n",
        "#       [qf[i][0] - (a_0[i] + a_1[i]*tf + a_2[i]*math.pow(tf,2))],\n",
        "#       [qf[i][1] - (a_1[i] + 2*a_2[i]*tf)],\n",
        "#       [qf[i][2] - (2*a_2[i])]\n",
        "#     ]\n",
        "\n",
        "#   solutions = [0,0,0]\n",
        "#   # print(\"Solution for X:\\n\")\n",
        "#   solutions[0] = numpy.linalg.solve(LS,SS[0])\n",
        "#   # print(solutions[0])\n",
        "\n",
        "#   # print(\"Solution for Y:\\n\")\n",
        "#   solutions[1] = numpy.linalg.solve(LS,SS[1])\n",
        "#   # print(solutions[1])\n",
        "\n",
        "#   # print(\"Solution for Z:\\n\")\n",
        "#   solutions[2] = numpy.linalg.solve(LS,SS[2])\n",
        "#   # print(solutions[2])\n",
        "\n",
        "#   a_5 = numpy.around([solutions[0][0][0], solutions[1][0][0], solutions[2][0][0]], decimals=3)\n",
        "#   a_4 = numpy.around([solutions[0][1][0], solutions[1][1][0], solutions[2][1][0]], decimals=3)\n",
        "#   a_3 = numpy.around([solutions[0][2][0], solutions[1][2][0], solutions[2][2][0]], decimals=3)\n",
        "\n",
        "#   names = ['X', 'Y', 'Z']\n",
        "#   name_color = {\n",
        "#       \"X\": \"blue\",\n",
        "#       \"Y\": \"green\",\n",
        "#       \"Z\": \"orange\",\n",
        "#   }\n",
        "\n",
        "#   timeseries_x = numpy.arange(start=prev_tf, stop=cum_time, step=tf/100)\n",
        "#   final_x += list(timeseries_x)\n",
        "\n",
        "#   for i, name in enumerate(names):\n",
        "#     # plt.figure(1)\n",
        "#     timeseries_y_pos[name] = numpy.array([a_5[i]*(j**5)+a_4[i]*(j**4)+a_3[i]*(j**3)+a_2[i]*(j**2)+a_1[i]*(j**1)+a_0[i] for j in timeseries_x])\n",
        "#     final_y_pos[name] += list(timeseries_y_pos[name])\n",
        "#     # plt.plot(timeseries_x, timeseries_y_pos[name], color=name_color[names[i]])\n",
        "#     # plt.axvline(x=timeseries_x[-1], color='purple', linestyle='dashed')\n",
        "#     # if index+1 == len(heart_times):\n",
        "#     #   plt.plot(timeseries_x, timeseries_y_pos[name], label=names[i], color=name_color[names[i]])\n",
        "\n",
        "#     # plt.figure(2)\n",
        "#     timeseries_y_vel[name] = numpy.array([5*a_5[i]*(j**4)+4*a_4[i]*(j**3)+3*a_3[i]*(j**2)+2*a_2[i]*(j**1)+a_1[i] for j in timeseries_x])\n",
        "#     final_y_vel[name] += list(timeseries_y_vel[name])\n",
        "#     # plt.plot(timeseries_x, timeseries_y_vel[name], color=name_color[names[i]])\n",
        "#     # plt.axvline(x=timeseries_x[-1], color='purple', linestyle='dashed')\n",
        "#     # if index+1 == len(heart_times):\n",
        "#     #   plt.plot(timeseries_x, timeseries_y_vel[name], label=names[i], color=name_color[names[i]])\n",
        "\n",
        "#     # plt.figure(3)\n",
        "#     timeseries_y_acc[name] = numpy.array([20*a_5[i]*(j**3)+12*a_4[i]*(j**2)+6*a_3[i]*(j**1)+2*a_2[i] for j in timeseries_x])\n",
        "#     final_y_acc[name] += list(timeseries_y_acc[name])\n",
        "#     # plt.plot(timeseries_x, timeseries_y_acc[name], color=name_color[names[i]])\n",
        "#     # plt.axvline(x=timeseries_x[-1], color='purple', linestyle='dashed')\n",
        "#     # if index+1 == len(heart_times):\n",
        "#     #   plt.plot(timeseries_x, timeseries_y_acc[name], label=names[i], color=name_color[names[i]])\n",
        "\n",
        "\n",
        "# plt.figure(1)\n",
        "# plt.axvline(x=0, label=\"Home\", color='red', linestyle='dashed')\n",
        "# plt.xlabel(xlabel=\"Time [s]\")\n",
        "# plt.ylabel(ylabel=\"Pos. [m]\")\n",
        "# for i, name in enumerate(names):\n",
        "#   plt.plot(final_x, final_y_pos[name], label=name, color=name_color[name])\n",
        "# plt.legend(bbox_to_anchor=(1, 1.05))\n",
        "\n",
        "# plt.figure(2)\n",
        "# plt.axvline(x=0, label=\"Home\", color='red', linestyle='dashed')\n",
        "# plt.xlabel(xlabel=\"Time [s]\")\n",
        "# plt.ylabel(ylabel=\"Vel. [m/s]\")\n",
        "# for i, name in enumerate(names):\n",
        "#   plt.plot(final_x, final_y_vel[name], label=name, color=name_color[name])\n",
        "# plt.legend(bbox_to_anchor=(1, 1.05))\n",
        "\n",
        "# plt.figure(3)\n",
        "# plt.axvline(x=0, label=\"Home\", color='red', linestyle='dashed')\n",
        "# plt.xlabel(xlabel=\"Time [s]\")\n",
        "# plt.ylabel(ylabel=\"Accel. [m/s^2]\")\n",
        "# for i, name in enumerate(names):\n",
        "#   plt.plot(final_x, final_y_acc[name], label=name, color=name_color[name])\n",
        "# plt.legend(bbox_to_anchor=(1, 1.05))\n",
        "\n",
        "# plt.show()"
      ]
    },
    {
      "cell_type": "code",
      "execution_count": null,
      "metadata": {},
      "outputs": [],
      "source": [
        "# p(t) = a_5 \\cdot t^5 + a_4 \\cdot t^4 + a_3 \\cdot t^3 + a_2 \\cdot t^2 + a_1 \\cdot t + a_0\n",
        "# \\dot{p}(t) = 5 \\cdot a_5 \\cdot t^4 + 4 \\cdot a_4 \\cdot t^3 + 3 \\cdot a_3 \\cdot t^2 + 2 \\cdot a_2 \\cdot t + a_1\n",
        "# \\ddot{p}(t) = 20 \\cdot a_5 \\cdot t^3 + 12 \\cdot a_4 \\cdot t^2 + 6 \\cdot a_3 \\cdot t + 2 \\cdot a_2\n",
        "\n",
        "# a_5 \\cdot t_f^5 + a_4 \\cdot t_f^4 + a_3 \\cdott_f^3 &= p_f - p_i\n",
        "# 5 \\cdot a_5 \\cdot t_f^4 + 4 \\cdot a_4 \\cdot t_f^3 + 3 \\cdot a_3 \\cdot t_f^2 &= \\dot{p}_f\n",
        "# 20 \\cdot a_5 \\cdot t_f^3 + 12 \\cdot a_4 \\cdot t_f^2 + 6 \\cdot a_3 \\cdot t_f &= \\ddot{p}_f"
      ]
    }
  ],
  "metadata": {
    "colab": {
      "collapsed_sections": [
        "7tZWqlpQs1VT"
      ],
      "provenance": []
    },
    "kernelspec": {
      "display_name": "Python 3.8.10 64-bit",
      "language": "python",
      "name": "python3"
    },
    "language_info": {
      "codemirror_mode": {
        "name": "ipython",
        "version": 3
      },
      "file_extension": ".py",
      "mimetype": "text/x-python",
      "name": "python",
      "nbconvert_exporter": "python",
      "pygments_lexer": "ipython3",
      "version": "3.10.7"
    },
    "orig_nbformat": 4,
    "vscode": {
      "interpreter": {
        "hash": "31f2aee4e71d21fbe5cf8b01ff0e069b9275f58929596ceb00d14d90e3e16cd6"
      }
    }
  },
  "nbformat": 4,
  "nbformat_minor": 0
}
